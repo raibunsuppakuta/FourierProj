{
 "cells": [
  {
   "cell_type": "code",
   "execution_count": 1,
   "metadata": {
    "collapsed": true
   },
   "outputs": [],
   "source": [
    "import numpy as np\n",
    "import scipy as sp\n",
    "import matplotlib.pyplot as plt\n",
    "from scipy import fft"
   ]
  },
  {
   "cell_type": "markdown",
   "metadata": {
    "collapsed": false
   },
   "source": [
    "Trigonometric functions"
   ]
  },
  {
   "cell_type": "code",
   "execution_count": 2,
   "metadata": {
    "collapsed": false
   },
   "outputs": [],
   "source": [
    "x = np.linspace(0, 2*np.pi, 100)"
   ]
  },
  {
   "cell_type": "code",
   "execution_count": 3,
   "metadata": {
    "collapsed": false
   },
   "outputs": [],
   "source": [
    "y1 = np.sin(x)\n",
    "y2 = np.cos(x)"
   ]
  },
  {
   "cell_type": "code",
   "execution_count": 4,
   "metadata": {
    "collapsed": false
   },
   "outputs": [
    {
     "ename": "TypeError",
     "evalue": "fftfreq() missing 1 required positional argument: 'n'",
     "output_type": "error",
     "traceback": [
      "\u001b[0;31m---------------------------------------------------------------------------\u001b[0m",
      "\u001b[0;31mTypeError\u001b[0m                                 Traceback (most recent call last)",
      "Cell \u001b[0;32mIn[4], line 1\u001b[0m\n\u001b[0;32m----> 1\u001b[0m freqs \u001b[39m=\u001b[39m fft\u001b[39m.\u001b[39;49mfftfreq()\n\u001b[1;32m      2\u001b[0m fy1 \u001b[39m=\u001b[39m fft\u001b[39m.\u001b[39mfft(y1)\n",
      "\u001b[0;31mTypeError\u001b[0m: fftfreq() missing 1 required positional argument: 'n'"
     ]
    }
   ],
   "source": [
    "freqs = fft.fftfreq()\n",
    "fy1 = fft.fft(y1)"
   ]
  },
  {
   "cell_type": "code",
   "execution_count": null,
   "metadata": {
    "collapsed": false
   },
   "outputs": [
    {
     "data": {
      "text/plain": [
       "array([1.66533454e-16, 4.97402284e+01, 6.78208058e-01, 3.80187034e-01,\n",
       "       2.70346074e-01, 2.11413873e-01, 1.74232873e-01, 1.48513904e-01,\n",
       "       1.29625969e-01, 1.15155885e-01, 1.03715415e-01, 9.44465747e-02,\n",
       "       8.67893516e-02, 8.03621440e-02, 7.48956910e-02, 7.01944344e-02,\n",
       "       6.61128487e-02, 6.25403678e-02, 5.93914663e-02, 5.65989439e-02,\n",
       "       5.41092672e-02, 5.18792664e-02, 4.98737485e-02, 4.80637428e-02,\n",
       "       4.64251915e-02, 4.49379583e-02, 4.35850694e-02, 4.23521241e-02,\n",
       "       4.12268345e-02, 4.01986606e-02, 3.92585193e-02, 3.83985511e-02,\n",
       "       3.76119304e-02, 3.68927110e-02, 3.62356998e-02, 3.56363517e-02,\n",
       "       3.50906836e-02, 3.45952017e-02, 3.41468416e-02, 3.37429172e-02,\n",
       "       3.33810789e-02, 3.30592774e-02, 3.27757341e-02, 3.25289151e-02,\n",
       "       3.23175112e-02, 3.21404196e-02, 3.19967295e-02, 3.18857110e-02,\n",
       "       3.18068053e-02, 3.17596183e-02, 3.17439152e-02, 3.17596183e-02,\n",
       "       3.18068053e-02, 3.18857110e-02, 3.19967295e-02, 3.21404196e-02,\n",
       "       3.23175112e-02, 3.25289151e-02, 3.27757341e-02, 3.30592774e-02,\n",
       "       3.33810789e-02, 3.37429172e-02, 3.41468416e-02, 3.45952017e-02,\n",
       "       3.50906836e-02, 3.56363517e-02, 3.62356998e-02, 3.68927110e-02,\n",
       "       3.76119304e-02, 3.83985511e-02, 3.92585193e-02, 4.01986606e-02,\n",
       "       4.12268345e-02, 4.23521241e-02, 4.35850694e-02, 4.49379583e-02,\n",
       "       4.64251915e-02, 4.80637428e-02, 4.98737485e-02, 5.18792664e-02,\n",
       "       5.41092672e-02, 5.65989439e-02, 5.93914663e-02, 6.25403678e-02,\n",
       "       6.61128487e-02, 7.01944344e-02, 7.48956910e-02, 8.03621440e-02,\n",
       "       8.67893516e-02, 9.44465747e-02, 1.03715415e-01, 1.15155885e-01,\n",
       "       1.29625969e-01, 1.48513904e-01, 1.74232873e-01, 2.11413873e-01,\n",
       "       2.70346074e-01, 3.80187034e-01, 6.78208058e-01, 4.97402284e+01])"
      ]
     },
     "execution_count": 9,
     "metadata": {},
     "output_type": "execute_result"
    }
   ],
   "source": [
    "fy1 = abs(fy1)\n",
    "fy1"
   ]
  },
  {
   "cell_type": "code",
   "execution_count": null,
   "metadata": {
    "collapsed": false
   },
   "outputs": [
    {
     "data": {
      "text/plain": [
       "[<matplotlib.lines.Line2D at 0x16c124490>]"
      ]
     },
     "execution_count": 10,
     "metadata": {},
     "output_type": "execute_result"
    },
    {
     "data": {
      "image/png": "[encoded data removed]",
      "text/plain": [
       "<Figure size 640x480 with 1 Axes>"
      ]
     },
     "metadata": {},
     "output_type": "display_data"
    }
   ],
   "source": [
    "plt.plot(x, fy1)"
   ]
  },
  {
   "cell_type": "code",
   "execution_count": null,
   "metadata": {
    "collapsed": false
   },
   "outputs": [],
   "source": []
  }
 ],
 "metadata": {
  "kernelspec": {
   "display_name": "Python 3",
   "language": "python",
   "name": "python3"
  },
  "language_info": {
   "codemirror_mode": {
    "name": "ipython",
    "version": 3
   },
   "file_extension": ".py",
   "mimetype": "text/x-python",
   "name": "python",
   "nbconvert_exporter": "python",
   "pygments_lexer": "ipython3",
   "version": "3.9.6"
  }
 },
 "nbformat": 4,
 "nbformat_minor": 0
}
